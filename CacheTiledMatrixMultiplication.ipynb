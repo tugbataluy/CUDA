{
  "nbformat": 4,
  "nbformat_minor": 0,
  "metadata": {
    "colab": {
      "provenance": []
    },
    "kernelspec": {
      "name": "python3",
      "display_name": "Python 3"
    },
    "language_info": {
      "name": "python"
    },
    "accelerator": "GPU",
    "gpuClass": "standard"
  },
  "cells": [
    {
      "cell_type": "code",
      "execution_count": 1,
      "metadata": {
        "id": "mRUHRGvynDUM",
        "colab": {
          "base_uri": "https://localhost:8080/"
        },
        "outputId": "ab430fae-3235-4535-af8c-765f4b471a03"
      },
      "outputs": [
        {
          "output_type": "stream",
          "name": "stdout",
          "text": [
            "Looking in indexes: https://pypi.org/simple, https://us-python.pkg.dev/colab-wheels/public/simple/\n",
            "Collecting git+https://github.com/andreinechaev/nvcc4jupyter.git\n",
            "  Cloning https://github.com/andreinechaev/nvcc4jupyter.git to /tmp/pip-req-build-yrpxkgbf\n",
            "  Running command git clone --filter=blob:none --quiet https://github.com/andreinechaev/nvcc4jupyter.git /tmp/pip-req-build-yrpxkgbf\n",
            "  Resolved https://github.com/andreinechaev/nvcc4jupyter.git to commit aac710a35f52bb78ab34d2e52517237941399eff\n",
            "  Preparing metadata (setup.py) ... \u001b[?25l\u001b[?25hdone\n",
            "Building wheels for collected packages: NVCCPlugin\n",
            "  Building wheel for NVCCPlugin (setup.py) ... \u001b[?25l\u001b[?25hdone\n",
            "  Created wheel for NVCCPlugin: filename=NVCCPlugin-0.0.2-py3-none-any.whl size=4305 sha256=0c22842363bddad67d8e3b978a604f2cade141c923be8c0026cd9e85955fbc18\n",
            "  Stored in directory: /tmp/pip-ephem-wheel-cache-99ll1j2f/wheels/a8/b9/18/23f8ef71ceb0f63297dd1903aedd067e6243a68ea756d6feea\n",
            "Successfully built NVCCPlugin\n",
            "Installing collected packages: NVCCPlugin\n",
            "Successfully installed NVCCPlugin-0.0.2\n"
          ]
        }
      ],
      "source": [
        "\n",
        "!pip install git+https://github.com/andreinechaev/nvcc4jupyter.git"
      ]
    },
    {
      "cell_type": "code",
      "source": [
        "\n",
        "!nvcc --version"
      ],
      "metadata": {
        "colab": {
          "base_uri": "https://localhost:8080/"
        },
        "id": "ppjdqGZ3naYj",
        "outputId": "11d3fd61-122b-4646-a380-66c96e1b0f67"
      },
      "execution_count": 2,
      "outputs": [
        {
          "output_type": "stream",
          "name": "stdout",
          "text": [
            "nvcc: NVIDIA (R) Cuda compiler driver\n",
            "Copyright (c) 2005-2022 NVIDIA Corporation\n",
            "Built on Wed_Sep_21_10:33:58_PDT_2022\n",
            "Cuda compilation tools, release 11.8, V11.8.89\n",
            "Build cuda_11.8.r11.8/compiler.31833905_0\n"
          ]
        }
      ]
    },
    {
      "cell_type": "code",
      "source": [
        "%load_ext nvcc_plugin\n"
      ],
      "metadata": {
        "colab": {
          "base_uri": "https://localhost:8080/"
        },
        "id": "KxaYGGWanf5B",
        "outputId": "c6dfd6a4-c3f2-4b8d-9166-1584b2165eae"
      },
      "execution_count": 3,
      "outputs": [
        {
          "output_type": "stream",
          "name": "stdout",
          "text": [
            "created output directory at /content/src\n",
            "Out bin /content/result.out\n"
          ]
        }
      ]
    },
    {
      "cell_type": "code",
      "source": [
        "%%cu\n",
        "#include <algorithm>\n",
        "#include <cassert>\n",
        "#include <cstdlib>\n",
        "#include <functional>\n",
        "#include <iostream>\n",
        "#include <vector>\n",
        "\n",
        "using std::cout;\n",
        "using std::generate;\n",
        "using std::vector;\n",
        "\n",
        "const int N = 1 << 10;\n",
        "const int SHMEM_SIZE = 1 << 10;\n",
        "\n",
        "__global__ void matrixMul(const int *a, const int *b, int *c) {\n",
        "  // Compute each threads global row and column index\n",
        "  int row = blockIdx.y * blockDim.y + threadIdx.y;\n",
        "  int col = blockIdx.x * blockDim.x + threadIdx.x;\n",
        "\n",
        "  // Statically allocated shared memory\n",
        "  __shared__ int s_a[SHMEM_SIZE];\n",
        "  __shared__ int s_b[SHMEM_SIZE];\n",
        "\n",
        "  // Accumulate in temporary variable\n",
        "  int tmp = 0;\n",
        "\n",
        "  // Sweep tile across matrix\n",
        "  for (int i = 0; i < N; i += blockDim.x) {\n",
        "    // Load in elements for this tile\n",
        "    s_a[threadIdx.y * blockDim.x + threadIdx.x] = a[row * N + i + threadIdx.x];\n",
        "    s_b[threadIdx.y * blockDim.x + threadIdx.x] =\n",
        "        b[i * N + threadIdx.y * N + col];\n",
        "\n",
        "    // Wait for both tiles to be loaded in before doing computation\n",
        "    __syncthreads();\n",
        "\n",
        "    // Do matrix multiplication on the small matrix\n",
        "    for (int j = 0; j < blockDim.x; j++) {\n",
        "      tmp +=\n",
        "          s_a[threadIdx.y * blockDim.x + j] * s_b[j * blockDim.x + threadIdx.x];\n",
        "    }\n",
        "\n",
        "    // Wait for all threads to finish using current tiles before loading in new\n",
        "    // ones\n",
        "    __syncthreads();\n",
        "  }\n",
        "\n",
        "  // Write back results\n",
        "  c[row * N + col] = tmp;\n",
        "}\n",
        "\n",
        "void verify_result(vector<int> &a, vector<int> &b, vector<int> &c) {\n",
        "  // For every row...\n",
        "  for (int i = 0; i < N; i++) {\n",
        "    // For every column...\n",
        "    for (int j = 0; j < N; j++) {\n",
        "      // For every element in the row-column pair\n",
        "      int tmp = 0;\n",
        "      for (int k = 0; k < N; k++) {\n",
        "        // Accumulate the partial results\n",
        "        tmp += a[i * N + k] * b[k * N + j];\n",
        "      }\n",
        "\n",
        "      // Check against the CPU result\n",
        "      assert(tmp == c[i * N + j]);\n",
        "    }\n",
        "  }\n",
        "}\n",
        "\n",
        "\n",
        "  int main() {\n",
        "  // Size (in bytes) of matrix\n",
        "  size_t bytes = N * N * sizeof(int);\n",
        "\n",
        "  // Host vectors\n",
        "  vector<int> h_a(N * N);\n",
        "  vector<int> h_b(N * N);\n",
        "  vector<int> h_c(N * N);\n",
        "\n",
        "  // Initialize matrices\n",
        "  generate(h_a.begin(), h_a.end(), []() { return rand() % 100; });\n",
        "  generate(h_b.begin(), h_b.end(), []() { return rand() % 100; });\n",
        "\n",
        "  // Allocate device memory\n",
        "  int *d_a, *d_b, *d_c;\n",
        "  cudaMalloc(&d_a, bytes);\n",
        "  cudaMalloc(&d_b, bytes);\n",
        "  cudaMalloc(&d_c, bytes);\n",
        "\n",
        "  // Copy data to the device\n",
        "  cudaMemcpy(d_a, h_a.data(), bytes, cudaMemcpyHostToDevice);\n",
        "  cudaMemcpy(d_b, h_b.data(), bytes, cudaMemcpyHostToDevice);\n",
        "\n",
        "  // Threads per CTA dimension\n",
        "  int THREADS = 32;\n",
        "\n",
        "  // Blocks per grid dimension (assumes THREADS divides N evenly)\n",
        "  int BLOCKS = N / THREADS;\n",
        "\n",
        "  // Use dim3 structs for block  and grid dimensions\n",
        "  dim3 threads(THREADS, THREADS);\n",
        "  dim3 blocks(BLOCKS, BLOCKS);\n",
        "\n",
        "  // Launch kernel\n",
        "  matrixMul<<<blocks, threads>>>(d_a, d_b, d_c);\n",
        "\n",
        "  // Copy back to the host\n",
        "  cudaMemcpy(h_c.data(), d_c, bytes, cudaMemcpyDeviceToHost);\n",
        "\n",
        "  // Check result\n",
        "  verify_result(h_a, h_b, h_c);\n",
        "\n",
        "  cout << \"COMPLETED SUCCESSFULLY\\n\";\n",
        "\n",
        "  // Free memory on device\n",
        "  cudaFree(d_a);\n",
        "  cudaFree(d_b);\n",
        "  cudaFree(d_c);\n",
        "\n",
        "  return 0;\n",
        "}\n",
        "\n",
        "\n",
        "\n",
        "\n"
      ],
      "metadata": {
        "colab": {
          "base_uri": "https://localhost:8080/"
        },
        "id": "RngspNFfnjba",
        "outputId": "3fed32ba-477b-4295-8e66-0884567ecdf2"
      },
      "execution_count": 6,
      "outputs": [
        {
          "output_type": "stream",
          "name": "stdout",
          "text": [
            "COMPLETED SUCCESSFULLY\n",
            "\n"
          ]
        }
      ]
    }
  ]
}