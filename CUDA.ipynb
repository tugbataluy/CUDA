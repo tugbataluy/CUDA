{
  "cells": [
    {
      "cell_type": "code",
      "execution_count": null,
      "metadata": {
        "colab": {
          "base_uri": "https://localhost:8080/"
        },
        "id": "JrVQiCy0VEeJ",
        "outputId": "8fb3fc54-3b37-41da-cd09-7212bddec630"
      },
      "outputs": [
        {
          "output_type": "stream",
          "name": "stdout",
          "text": [
            "Looking in indexes: https://pypi.org/simple, https://us-python.pkg.dev/colab-wheels/public/simple/\n",
            "Collecting git+https://github.com/andreinechaev/nvcc4jupyter.git\n",
            "  Cloning https://github.com/andreinechaev/nvcc4jupyter.git to /tmp/pip-req-build-69lww8ai\n",
            "  Running command git clone -q https://github.com/andreinechaev/nvcc4jupyter.git /tmp/pip-req-build-69lww8ai\n",
            "Building wheels for collected packages: NVCCPlugin\n",
            "  Building wheel for NVCCPlugin (setup.py) ... \u001b[?25l\u001b[?25hdone\n",
            "  Created wheel for NVCCPlugin: filename=NVCCPlugin-0.0.2-py3-none-any.whl size=4304 sha256=1fcae6e672d0a1ac7490773f423d02fddb97d95eb8948eeff43899bec8e9a6b2\n",
            "  Stored in directory: /tmp/pip-ephem-wheel-cache-kfo0v_0g/wheels/f3/08/cc/e2b5b0e1c92df07dbb50a6f024a68ce090f5e7b2316b41756d\n",
            "Successfully built NVCCPlugin\n",
            "Installing collected packages: NVCCPlugin\n",
            "Successfully installed NVCCPlugin-0.0.2\n"
          ]
        }
      ],
      "source": [
        "!pip install git+https://github.com/andreinechaev/nvcc4jupyter.git"
      ]
    },
    {
      "cell_type": "code",
      "execution_count": null,
      "metadata": {
        "colab": {
          "base_uri": "https://localhost:8080/"
        },
        "id": "F6lifEurTtmz",
        "outputId": "c6f0e1fd-0d77-4fa0-9d1a-eb5bd76cf6ce"
      },
      "outputs": [
        {
          "name": "stdout",
          "output_type": "stream",
          "text": [
            "nvcc: NVIDIA (R) Cuda compiler driver\n",
            "Copyright (c) 2005-2021 NVIDIA Corporation\n",
            "Built on Sun_Feb_14_21:12:58_PST_2021\n",
            "Cuda compilation tools, release 11.2, V11.2.152\n",
            "Build cuda_11.2.r11.2/compiler.29618528_0\n"
          ]
        }
      ],
      "source": [
        "!nvcc --version\n"
      ]
    },
    {
      "cell_type": "code",
      "execution_count": null,
      "metadata": {
        "colab": {
          "base_uri": "https://localhost:8080/"
        },
        "id": "yx7zW0rSVbI3",
        "outputId": "624d6266-d9b0-457d-8287-0eaab7e76d33"
      },
      "outputs": [
        {
          "output_type": "stream",
          "name": "stdout",
          "text": [
            "created output directory at /content/src\n",
            "Out bin /content/result.out\n"
          ]
        }
      ],
      "source": [
        "%load_ext nvcc_plugin"
      ]
    },
    {
      "cell_type": "code",
      "execution_count": null,
      "metadata": {
        "colab": {
          "base_uri": "https://localhost:8080/"
        },
        "id": "JI-2BwYSVM_X",
        "outputId": "bd16df61-07b8-4f36-ab25-1356ab66209f"
      },
      "outputs": [
        {
          "name": "stdout",
          "output_type": "stream",
          "text": [
            "The maximum element is : -1761187824\n",
            "The time required : 0.002368\n",
            "\n"
          ]
        }
      ],
      "source": [
        "%%cu\n",
        "//DENEMEEEEEE\n",
        "#include <cstdio>\n",
        "#include <iostream>\n",
        " \n",
        "    using namespace std;\n",
        " \n",
        "__global__ void maxi(int* a, int* b, int n)\n",
        "{\n",
        "    int block = 256 * blockIdx.x;\n",
        "    int max = 0;\n",
        " \n",
        "    for (int i = block; i < min(256 + block, n); i++) {\n",
        " \n",
        "        if (max < a[i]) {\n",
        "            max = a[i];\n",
        "        }\n",
        "    }\n",
        "    b[blockIdx.x] = max;\n",
        "}\n",
        " \n",
        "int main()\n",
        "{\n",
        " \n",
        "    int n;\n",
        "    n = 3 >> 2;\n",
        "    int a[n];\n",
        " \n",
        "    for (int i = 0; i < n; i++) {\n",
        "        a[i] = rand() % n;\n",
        "        cout << a[i] << \"\\t\";\n",
        "    }\n",
        " \n",
        "    cudaEvent_t start, end;\n",
        "    int *ad, *bd;\n",
        "    int size = n * sizeof(int);\n",
        "    cudaMalloc(&ad, size);\n",
        "    cudaMemcpy(ad, a, size, cudaMemcpyHostToDevice);\n",
        "    int grids = ceil(n * 1.0f / 256.0f);\n",
        "    cudaMalloc(&bd, grids * sizeof(int));\n",
        " \n",
        "    dim3 grid(grids, 1);\n",
        "    dim3 block(1, 1);\n",
        " \n",
        "    cudaEventCreate(&start);\n",
        "    cudaEventCreate(&end);\n",
        "    cudaEventRecord(start);\n",
        " \n",
        "    while (n > 1) {\n",
        "        maxi<<<grids, block>>>(ad, bd, n);\n",
        "        n = ceil(n * 1.0f / 256.0f);\n",
        "        cudaMemcpy(ad, bd, n * sizeof(int), cudaMemcpyDeviceToDevice);\n",
        "    }\n",
        " \n",
        "    cudaEventRecord(end);\n",
        "    cudaEventSynchronize(end);\n",
        " \n",
        "    float time = 0;\n",
        "    cudaEventElapsedTime(&time, start, end);\n",
        " \n",
        "    int ans[2];\n",
        "    cudaMemcpy(ans, ad, 4, cudaMemcpyDeviceToHost);\n",
        " \n",
        "    cout << \"The maximum element is : \" << ans[0] << endl;\n",
        " \n",
        "    cout << \"The time required : \";\n",
        "    cout << time << endl;\n",
        "}"
      ]
    },
    {
      "cell_type": "code",
      "execution_count": null,
      "metadata": {
        "colab": {
          "base_uri": "https://localhost:8080/"
        },
        "id": "SwSTDtZ50n44",
        "outputId": "832df69b-31d2-44ec-b987-d588a616f5cf"
      },
      "outputs": [
        {
          "output_type": "stream",
          "name": "stdout",
          "text": [
            "0.048928\n"
          ]
        }
      ],
      "source": [
        "%%cu\n",
        "#include<stdio.h>\n",
        "#include<stdlib.h>\n",
        "#include<math.h>\n",
        "#define SIZE 850000\n",
        "__global__ void device_add(int *a, int *b,int *c ){\n",
        "    \n",
        "    int index= threadIdx.x+blockIdx.x*blockDim.x;\n",
        "    c[index]=a[index]+b[index];\n",
        "    //c[blockIdx.x]=a[blockIdx.x]+b[blockIdx.x];\n",
        "\n",
        "}\n",
        "void fill_array(int *arr){\n",
        "    for(int i=0;i<SIZE;i++){\n",
        "        arr[i]=rand()%SIZE;\n",
        "    }\n",
        "}\n",
        "void print_output(int *a, int *b, int *c){\n",
        "    for(int i=0;i<SIZE;i++){\n",
        "        printf(\"%d + %d = %d\\n\",a[i],b[i],c[i]);\n",
        "    }\n",
        "}\n",
        "int main(void){\n",
        "    \n",
        "    int *arr1,*arr2,*arr3;\n",
        "    int *device_arr1, *device_arr2, *device_arr3;\n",
        "    int size= SIZE*sizeof(int);\n",
        "\n",
        "    // cpudaki arrayler için yer ayır.\n",
        "    \n",
        "    arr1=(int *)malloc(size);\n",
        "    fill_array(arr1);\n",
        "    arr2=(int *)malloc(size);\n",
        "    fill_array(arr2);\n",
        "    arr3=(int *)malloc(size);\n",
        "    \n",
        "    // gpudaki arrayler için yer ayır\n",
        "    cudaMalloc((void**)&device_arr1,size);\n",
        "    cudaMalloc((void**)&device_arr2,size);\n",
        "    cudaMalloc((void**)&device_arr3,size);\n",
        "\n",
        "    // cpudaki arraylerin içeriğini gpudaki arraylere kopyala\n",
        "    cudaMemcpy(device_arr1,arr1,size,cudaMemcpyHostToDevice);\n",
        "    cudaMemcpy(device_arr2,arr2,size,cudaMemcpyHostToDevice);\n",
        "\n",
        "    cudaEvent_t start, stop;\n",
        "    cudaEventCreate(&start);\n",
        "    cudaEventCreate(&stop);\n",
        "\n",
        "    cudaEventRecord(start);\n",
        "    device_add<<<ceil(SIZE/128),128>>>(device_arr1,device_arr2,device_arr3);\n",
        "    cudaEventRecord(stop);\n",
        "    \n",
        "    cudaMemcpy(arr3,device_arr3,size,cudaMemcpyDeviceToHost);\n",
        "    cudaEventSynchronize(stop);\n",
        "    float result=0;\n",
        "    cudaEventElapsedTime(&result,start,stop);\n",
        "    \n",
        "   // print_output(arr1,arr2,arr3);\n",
        "\n",
        "    free(arr1);\n",
        "    free(arr2);\n",
        "    free(arr3);\n",
        "    cudaFree(device_arr1);\n",
        "    cudaFree(device_arr2);\n",
        "    cudaFree(device_arr3);\n",
        "     printf(\"%f\", result);\n",
        "    \n",
        "    return 0;\n",
        "}\n"
      ]
    },
    {
      "cell_type": "code",
      "source": [
        "import matplotlib.pyplot as plt\n",
        "import numpy as np\n",
        "x_axis = [\"850000,1\",\n",
        "\"425000,2\",\n",
        "\"212500,4\",\n",
        "\"106250,8\",\n",
        "\"53125,16\",\n",
        "\"26563,32\",\n",
        "\"13282,64\",\n",
        "\"1,850000\",\n",
        "\"2,425000\",\n",
        "\"4,212500\",\n",
        "\"8,106250\",\n",
        "\"16,53125\",\n",
        "\"32,26563\",\n",
        "\"64,13282\",\n",
        "]\n",
        "y_axis = [2.440832,\n",
        "1.227072,\n",
        "0.627776,\n",
        "0.324320,\n",
        "0.167968,\n",
        "0.089536,\n",
        "0.049952,\n",
        "0.002944,\n",
        "0.002912,\n",
        "0.002944,\n",
        "0.002912,\n",
        "0.002944,\n",
        "0.002912,\n",
        "0.002912,\n",
        "\n",
        "]\n",
        "\n",
        "\n",
        "plt.bar(x_axis, y_axis)\n",
        "plt.title('Blok,thread sayısına göre işlemi yapmak için geçen süre')\n",
        "plt.xticks(rotation=90)\n",
        "plt.yticks(np.arange(min(y_axis), max(y_axis)+0.25, 0.1))\n",
        "plt.xlabel('Blok-Thread')\n",
        "plt.ylabel('Süre(ms)')\n",
        "\n",
        "plt.show()"
      ],
      "metadata": {
        "colab": {
          "base_uri": "https://localhost:8080/",
          "height": 333
        },
        "id": "wOvYY21Hn0m9",
        "outputId": "ee5d49c7-b056-458d-c374-a74e022443da"
      },
      "execution_count": null,
      "outputs": [
        {
          "output_type": "display_data",
          "data": {
            "text/plain": [
              "<Figure size 432x288 with 1 Axes>"
            ],
            "image/png": "[encoded data removed]"
          },
          "metadata": {
            "needs_background": "light"
          }
        }
      ]
    }
  ],
  "metadata": {
    "accelerator": "GPU",
    "colab": {
      "provenance": []
    },
    "gpuClass": "standard",
    "kernelspec": {
      "display_name": "Python 3",
      "name": "python3"
    },
    "language_info": {
      "name": "python"
    }
  },
  "nbformat": 4,
  "nbformat_minor": 0
}