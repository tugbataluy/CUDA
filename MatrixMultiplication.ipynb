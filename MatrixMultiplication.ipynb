{
  "nbformat": 4,
  "nbformat_minor": 0,
  "metadata": {
    "colab": {
      "provenance": []
    },
    "kernelspec": {
      "name": "python3",
      "display_name": "Python 3"
    },
    "language_info": {
      "name": "python"
    },
    "accelerator": "GPU",
    "gpuClass": "standard"
  },
  "cells": [
    {
      "cell_type": "code",
      "execution_count": 5,
      "metadata": {
        "colab": {
          "base_uri": "https://localhost:8080/"
        },
        "id": "-gB1BLWFbvdS",
        "outputId": "bd644775-1f96-47da-f3b0-0e00b1bbde29"
      },
      "outputs": [
        {
          "output_type": "stream",
          "name": "stdout",
          "text": [
            "Looking in indexes: https://pypi.org/simple, https://us-python.pkg.dev/colab-wheels/public/simple/\n",
            "Collecting git+https://github.com/andreinechaev/nvcc4jupyter.git\n",
            "  Cloning https://github.com/andreinechaev/nvcc4jupyter.git to /tmp/pip-req-build-0x6gdmwn\n",
            "  Running command git clone --filter=blob:none --quiet https://github.com/andreinechaev/nvcc4jupyter.git /tmp/pip-req-build-0x6gdmwn\n",
            "  Resolved https://github.com/andreinechaev/nvcc4jupyter.git to commit aac710a35f52bb78ab34d2e52517237941399eff\n",
            "  Preparing metadata (setup.py) ... \u001b[?25l\u001b[?25hdone\n",
            "Building wheels for collected packages: NVCCPlugin\n",
            "  Building wheel for NVCCPlugin (setup.py) ... \u001b[?25l\u001b[?25hdone\n",
            "  Created wheel for NVCCPlugin: filename=NVCCPlugin-0.0.2-py3-none-any.whl size=4305 sha256=75e286b57c46efd4f0fbe9a30958dd082fd4af838434712817549f6a93bebbbf\n",
            "  Stored in directory: /tmp/pip-ephem-wheel-cache-ntv9wm6s/wheels/a8/b9/18/23f8ef71ceb0f63297dd1903aedd067e6243a68ea756d6feea\n",
            "Successfully built NVCCPlugin\n",
            "Installing collected packages: NVCCPlugin\n",
            "Successfully installed NVCCPlugin-0.0.2\n"
          ]
        }
      ],
      "source": [
        "\n",
        "!pip install git+https://github.com/andreinechaev/nvcc4jupyter.git\n",
        "     "
      ]
    },
    {
      "cell_type": "code",
      "source": [
        "!nvcc --version\n"
      ],
      "metadata": {
        "colab": {
          "base_uri": "https://localhost:8080/"
        },
        "id": "yUuAaj10b5bN",
        "outputId": "2a1dc8f5-b946-4fa5-fe4f-609b0459b0dd"
      },
      "execution_count": 6,
      "outputs": [
        {
          "output_type": "stream",
          "name": "stdout",
          "text": [
            "nvcc: NVIDIA (R) Cuda compiler driver\n",
            "Copyright (c) 2005-2022 NVIDIA Corporation\n",
            "Built on Wed_Sep_21_10:33:58_PDT_2022\n",
            "Cuda compilation tools, release 11.8, V11.8.89\n",
            "Build cuda_11.8.r11.8/compiler.31833905_0\n"
          ]
        }
      ]
    },
    {
      "cell_type": "code",
      "source": [
        "\n",
        "%load_ext nvcc_plugin"
      ],
      "metadata": {
        "colab": {
          "base_uri": "https://localhost:8080/"
        },
        "id": "RGWRhwYcb_Yz",
        "outputId": "8fd86c8b-26d5-4765-ad97-90dac46553ab"
      },
      "execution_count": 7,
      "outputs": [
        {
          "output_type": "stream",
          "name": "stdout",
          "text": [
            "created output directory at /content/src\n",
            "Out bin /content/result.out\n"
          ]
        }
      ]
    },
    {
      "cell_type": "code",
      "source": [
        "%%cu \n",
        "#include <algorithm>\n",
        "#include <cassert>\n",
        "#include <cstdlib>\n",
        "#include <functional>\n",
        "#include <iostream>\n",
        "#include <vector>\n",
        "\n",
        "using std::cout;\n",
        "using std::generate;\n",
        "using std::vector;\n",
        "\n",
        "__global__ void matrixMul(const int *a, const int *b, int *c, int N) {\n",
        "  // Compute each thread's global row and column index\n",
        "  int row = blockIdx.y * blockDim.y + threadIdx.y;\n",
        "  int col = blockIdx.x * blockDim.x + threadIdx.x;\n",
        "\n",
        "  // Iterate over row, and down column\n",
        "  c[row * N + col] = 0;\n",
        "  for (int k = 0; k < N; k++) {\n",
        "    // Accumulate results for a single element\n",
        "    c[row * N + col] += a[row * N + k] * b[k * N + col];\n",
        "  }\n",
        "}\n",
        "\n",
        "// Check result on the CPU\n",
        "void verify_result(vector<int> &a, vector<int> &b, vector<int> &c, int N) {\n",
        "  // For every row...\n",
        "  for (int i = 0; i < N; i++) {\n",
        "    // For every column...\n",
        "    for (int j = 0; j < N; j++) {\n",
        "      // For every element in the row-column pair\n",
        "      int tmp = 0;\n",
        "      for (int k = 0; k < N; k++) {\n",
        "        // Accumulate the partial results\n",
        "        tmp += a[i * N + k] * b[k * N + j];\n",
        "      }\n",
        "\n",
        "      // Check against the CPU result\n",
        "      assert(tmp == c[i * N + j]);\n",
        "    }\n",
        "  }\n",
        "}\n",
        "\n",
        "int main() {\n",
        "  // Matrix size of 1024 x 1024;\n",
        "  int N = 1 << 10;\n",
        "\n",
        "  // Size (in bytes) of matrix\n",
        "  size_t bytes = N * N * sizeof(int);\n",
        "\n",
        "  // Host vectors\n",
        "  vector<int> h_a(N * N);\n",
        "  vector<int> h_b(N * N);\n",
        "  vector<int> h_c(N * N);\n",
        "\n",
        "  // Initialize matrices\n",
        "  generate(h_a.begin(), h_a.end(), []() { return rand() % 100; });\n",
        "  generate(h_b.begin(), h_b.end(), []() { return rand() % 100; });\n",
        "\n",
        "  // Allocate device memory\n",
        "  int *d_a, *d_b, *d_c;\n",
        "  cudaMalloc(&d_a, bytes);\n",
        "  cudaMalloc(&d_b, bytes);\n",
        "  cudaMalloc(&d_c, bytes);\n",
        "\n",
        "  // Copy data to the device\n",
        "  cudaMemcpy(d_a, h_a.data(), bytes, cudaMemcpyHostToDevice);\n",
        "  cudaMemcpy(d_b, h_b.data(), bytes, cudaMemcpyHostToDevice);\n",
        "\n",
        "  // Threads per CTA dimension\n",
        "  int THREADS = 32;\n",
        "\n",
        "  // Blocks per grid dimension (assumes THREADS divides N evenly)\n",
        "  int BLOCKS = N / THREADS;\n",
        "\n",
        "  // Use dim3 structs for block  and grid dimensions\n",
        "  dim3 threads(THREADS, THREADS);\n",
        "  dim3 blocks(BLOCKS, BLOCKS);\n",
        "\n",
        "  // Launch kernel\n",
        "  matrixMul<<<blocks, threads>>>(d_a, d_b, d_c, N);\n",
        "\n",
        "  // Copy back to the host\n",
        "  cudaMemcpy(h_c.data(), d_c, bytes, cudaMemcpyDeviceToHost);\n",
        "\n",
        "  // Check result\n",
        "  verify_result(h_a, h_b, h_c, N);\n",
        "\n",
        "  cout << \"COMPLETED SUCCESSFULLY\\n\";\n",
        "\n",
        "  // Free memory on device\n",
        "  cudaFree(d_a);\n",
        "  cudaFree(d_b);\n",
        "  cudaFree(d_c);\n",
        "\n",
        "  return 0;\n",
        "}"
      ],
      "metadata": {
        "colab": {
          "base_uri": "https://localhost:8080/"
        },
        "id": "yqbBP2xKcC1q",
        "outputId": "fd9228c2-4d90-4998-f3dd-89c30f4f0085"
      },
      "execution_count": 22,
      "outputs": [
        {
          "output_type": "stream",
          "name": "stdout",
          "text": [
            "COMPLETED SUCCESSFULLY\n",
            "\n"
          ]
        }
      ]
    }
  ]
}